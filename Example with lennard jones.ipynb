{
 "cells": [
  {
   "cell_type": "code",
   "execution_count": 15,
   "id": "2d3829ca",
   "metadata": {},
   "outputs": [],
   "source": [
    "import hoomd\n",
    "import gsd.hoomd\n",
    "import numpy\n",
    "import numpy as np\n",
    "import math\n",
    "import itertools\n",
    "import matplotlib.pyplot as plt"
   ]
  },
  {
   "cell_type": "code",
   "execution_count": 16,
   "id": "3ce53f4d",
   "metadata": {},
   "outputs": [],
   "source": [
    "a = gsd.hoomd.Snapshot()\n",
    "a.particles.N = 2\n",
    "a.particles.types = ['A']\n",
    "a.particles.typeid = [0,0]\n",
    "a.particles.position = [[1,1,2], [1,2,1]]\n",
    "a.configuration.box = [8, 8, 8, 0, 0, 0]\n",
    "a.particles.mass = [2] * 2"
   ]
  },
  {
   "cell_type": "code",
   "execution_count": 17,
   "id": "5df56397",
   "metadata": {},
   "outputs": [
    {
     "data": {
      "text/plain": [
       "array([[0.8, 0. , 0. ],\n",
       "       [0. , 1.8, 0. ],\n",
       "       [0. , 0. , 1.8]])"
      ]
     },
     "execution_count": 17,
     "metadata": {},
     "output_type": "execute_result"
    }
   ],
   "source": [
    "#Script in order to account for Intertia, which hopefully solves the line 9 problem of providing no torques\n",
    "#The problem: adding the mass property to the particles breaks the line 4 command\n",
    "general_positions = numpy.array([[0, 0, 0], [1, 0, 0]])\n",
    "\n",
    "I_ref = numpy.array([[0.4, 0, 0],\n",
    "                   [0, 0.4, 0],\n",
    "                   [0, 0, 0.4]])\n",
    "I_general = numpy.zeros(shape=(3,3))\n",
    "for r in general_positions:\n",
    "    I_general += I_ref + 1 * (numpy.dot(r, r) * numpy.identity(3) - numpy.outer(r, r))\n",
    "    \n",
    "I_diagonal, E_vec = numpy.linalg.eig(I_general)\n",
    "\n",
    "R = E_vec.T\n",
    "\n",
    "diagonal_positions = numpy.dot(R, general_positions.T).T\n",
    "\n",
    "I_check = numpy.zeros(shape=(3,3))\n",
    "for r in diagonal_positions:\n",
    "    I_check += I_ref + 1 * (numpy.dot(r, r) * numpy.identity(3) - numpy.outer(r, r))\n",
    "\n",
    "#mass = 1\n",
    "#I = numpy.zeros(shape=(3,3))\n",
    "#for r in central_position:\n",
    "#    I += mass * (numpy.dot(r, r) * numpy.identity(3) - numpy.outer(r, r))\n",
    "I_check"
   ]
  },
  {
   "cell_type": "code",
   "execution_count": 18,
   "id": "d1c64cf8",
   "metadata": {},
   "outputs": [
    {
     "name": "stdout",
     "output_type": "stream",
     "text": [
      "[0.8, 1.7999999999999998, 1.7999999999999998, 0.8, 1.7999999999999998, 1.7999999999999998]\n"
     ]
    }
   ],
   "source": [
    "a.particles.moment_inertia = [I_general[0, 0], I_general[1, 1], I_general[2, 2]] * 2\n",
    "print(a.particles.moment_inertia[:])"
   ]
  },
  {
   "cell_type": "code",
   "execution_count": 19,
   "id": "9cfe72d7",
   "metadata": {},
   "outputs": [],
   "source": [
    "cpu = hoomd.device.CPU()\n",
    "sim = hoomd.Simulation(device=cpu, seed=1)\n",
    "sim.create_state_from_snapshot(a)"
   ]
  },
  {
   "cell_type": "code",
   "execution_count": 20,
   "id": "89a786ac",
   "metadata": {},
   "outputs": [],
   "source": [
    "rigid = hoomd.md.constrain.Rigid()\n",
    "\n",
    "rigid.body['dimer'] = {\n",
    "    \"constituent_types\": ['A', 'A'],\n",
    "    \"positions\": [[0, 0, -0.5],[0,0,0.5]],\n",
    "    \"charges\": [0.0, 0.0],\n",
    "    \"diameters\": [1.0, 1.0]\n",
    "}"
   ]
  },
  {
   "cell_type": "code",
   "execution_count": 21,
   "id": "a77a76d8",
   "metadata": {},
   "outputs": [],
   "source": [
    "integrator = hoomd.md.Integrator(dt=0.005, integrate_rotational_dof=True)\n",
    "\n",
    "cell=hoomd.md.nlist.Cell(buffer=0.4)\n",
    "\n",
    "lperp=0.3\n",
    "lpar=1.0\n",
    "sigmin=2*min(lperp,lpar)\n",
    "sigmax=2*max(lperp,lpar)\n",
    "\n",
    "lj = hoomd.md.pair.LJ(nlist=cell)\n",
    "lj.params[('A', 'A')] = dict(epsilon=10, sigma=1)\n",
    "lj.r_cut[('A', 'A')] = 2.5"
   ]
  },
  {
   "cell_type": "code",
   "execution_count": 22,
   "id": "d8fa0dcc",
   "metadata": {},
   "outputs": [],
   "source": [
    "sim.operations.integrator=integrator"
   ]
  },
  {
   "cell_type": "code",
   "execution_count": 23,
   "id": "9ce6df32",
   "metadata": {},
   "outputs": [],
   "source": [
    "integrator.rigid=rigid"
   ]
  },
  {
   "cell_type": "code",
   "execution_count": 24,
   "id": "167bc915",
   "metadata": {},
   "outputs": [],
   "source": [
    "rigid_centers_and_free=hoomd.filter.Rigid((\"center\",\"free\"))\n",
    "nve=hoomd.md.methods.NVE(filter=hoomd.filter.All())\n",
    "integrator.methods.append(nve)\n",
    "integrator.forces.append(lj)"
   ]
  },
  {
   "cell_type": "code",
   "execution_count": null,
   "id": "1206e448",
   "metadata": {},
   "outputs": [],
   "source": []
  },
  {
   "cell_type": "code",
   "execution_count": null,
   "id": "fe1c64ac",
   "metadata": {},
   "outputs": [],
   "source": []
  },
  {
   "cell_type": "code",
   "execution_count": 25,
   "id": "06744524",
   "metadata": {},
   "outputs": [],
   "source": [
    "sim.run(0)"
   ]
  },
  {
   "cell_type": "code",
   "execution_count": 26,
   "id": "f1836148",
   "metadata": {},
   "outputs": [
    {
     "data": {
      "text/plain": [
       "array([[1., 0., 0., 0.],\n",
       "       [1., 0., 0., 0.]])"
      ]
     },
     "execution_count": 26,
     "metadata": {},
     "output_type": "execute_result"
    }
   ],
   "source": [
    "g=sim.state.get_snapshot()\n",
    "g.particles.orientation"
   ]
  },
  {
   "cell_type": "code",
   "execution_count": 27,
   "id": "447e9f3c",
   "metadata": {},
   "outputs": [],
   "source": [
    "thermodynamic_properties=hoomd.md.compute.ThermodynamicQuantities(filter=hoomd.filter.All())\n",
    "gsd_writer=hoomd.write.GSD(filename='traj_different_directions2.gsd',trigger=hoomd.trigger.Periodic(1),mode='wb',filter=hoomd.filter.All())\n",
    "sim.operations.writers.append(gsd_writer)"
   ]
  },
  {
   "cell_type": "code",
   "execution_count": 28,
   "id": "c7ca8449",
   "metadata": {},
   "outputs": [],
   "source": [
    "sim.operations.computes.append(thermodynamic_properties)\n",
    "sim.run(10000)"
   ]
  },
  {
   "cell_type": "code",
   "execution_count": null,
   "id": "5c9a2222",
   "metadata": {},
   "outputs": [],
   "source": []
  },
  {
   "cell_type": "code",
   "execution_count": null,
   "id": "05acb17f",
   "metadata": {},
   "outputs": [],
   "source": []
  },
  {
   "cell_type": "code",
   "execution_count": null,
   "id": "67a937df",
   "metadata": {},
   "outputs": [],
   "source": []
  },
  {
   "cell_type": "code",
   "execution_count": null,
   "id": "26f756d8",
   "metadata": {},
   "outputs": [],
   "source": []
  },
  {
   "cell_type": "code",
   "execution_count": null,
   "id": "b491645d",
   "metadata": {},
   "outputs": [],
   "source": []
  },
  {
   "cell_type": "code",
   "execution_count": null,
   "id": "dec9fb1a",
   "metadata": {},
   "outputs": [],
   "source": []
  },
  {
   "cell_type": "code",
   "execution_count": null,
   "id": "bdb6d93a",
   "metadata": {},
   "outputs": [],
   "source": []
  },
  {
   "cell_type": "code",
   "execution_count": null,
   "id": "551c9fcc",
   "metadata": {},
   "outputs": [],
   "source": []
  }
 ],
 "metadata": {
  "kernelspec": {
   "display_name": "Python 3 (ipykernel)",
   "language": "python",
   "name": "python3"
  },
  "language_info": {
   "codemirror_mode": {
    "name": "ipython",
    "version": 3
   },
   "file_extension": ".py",
   "mimetype": "text/x-python",
   "name": "python",
   "nbconvert_exporter": "python",
   "pygments_lexer": "ipython3",
   "version": "3.10.12"
  }
 },
 "nbformat": 4,
 "nbformat_minor": 5
}
